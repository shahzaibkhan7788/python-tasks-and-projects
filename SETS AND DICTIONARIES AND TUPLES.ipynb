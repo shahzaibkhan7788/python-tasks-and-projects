{
 "cells": [
  {
   "cell_type": "markdown",
   "id": "9fd83165",
   "metadata": {},
   "source": [
    "# various operation that we can perform..."
   ]
  },
  {
   "cell_type": "raw",
   "id": "7260c16d",
   "metadata": {},
   "source": []
  },
  {
   "cell_type": "code",
   "execution_count": 6,
   "id": "7d581a81",
   "metadata": {},
   "outputs": [
    {
     "data": {
      "text/plain": [
       "21"
      ]
     },
     "execution_count": 6,
     "metadata": {},
     "output_type": "execute_result"
    }
   ],
   "source": [
    "lst=[1,2,3,4,5,6]\n",
    "sum(lst)"
   ]
  },
  {
   "cell_type": "code",
   "execution_count": null,
   "id": "b082d975",
   "metadata": {},
   "outputs": [],
   "source": [
    "## if we multiply a list with digits then the list will give values to that times of digits..."
   ]
  },
  {
   "cell_type": "code",
   "execution_count": 18,
   "id": "23c2bb50",
   "metadata": {},
   "outputs": [
    {
     "data": {
      "text/plain": [
       "[1, 1, 2, 3, 4, 5, 6, 1, 1, 2, 3, 4, 5, 6]"
      ]
     },
     "execution_count": 18,
     "metadata": {},
     "output_type": "execute_result"
    }
   ],
   "source": [
    "lst*2"
   ]
  },
  {
   "cell_type": "markdown",
   "id": "09e629a5",
   "metadata": {},
   "source": [
    "# pop() this is inbuilt function"
   ]
  },
  {
   "cell_type": "markdown",
   "id": "9e2f1f90",
   "metadata": {},
   "source": [
    "It remove an element from the list ....\n",
    "By diffult it remove the last element but you can also mention spefific range...."
   ]
  },
  {
   "cell_type": "code",
   "execution_count": 7,
   "id": "d723a475",
   "metadata": {},
   "outputs": [
    {
     "data": {
      "text/plain": [
       "6"
      ]
     },
     "execution_count": 7,
     "metadata": {},
     "output_type": "execute_result"
    }
   ],
   "source": [
    "lst.pop()"
   ]
  },
  {
   "cell_type": "code",
   "execution_count": 8,
   "id": "3846a0b7",
   "metadata": {},
   "outputs": [
    {
     "data": {
      "text/plain": [
       "[1, 2, 3, 4, 5]"
      ]
     },
     "execution_count": 8,
     "metadata": {},
     "output_type": "execute_result"
    }
   ],
   "source": [
    "lst"
   ]
  },
  {
   "cell_type": "code",
   "execution_count": 9,
   "id": "32082bd0",
   "metadata": {},
   "outputs": [
    {
     "data": {
      "text/plain": [
       "1"
      ]
     },
     "execution_count": 9,
     "metadata": {},
     "output_type": "execute_result"
    }
   ],
   "source": [
    "lst.pop(0)"
   ]
  },
  {
   "cell_type": "code",
   "execution_count": 10,
   "id": "89d18dc2",
   "metadata": {},
   "outputs": [
    {
     "data": {
      "text/plain": [
       "[2, 3, 4, 5]"
      ]
     },
     "execution_count": 10,
     "metadata": {},
     "output_type": "execute_result"
    }
   ],
   "source": [
    "lst"
   ]
  },
  {
   "cell_type": "markdown",
   "id": "e081d8ea",
   "metadata": {},
   "source": [
    "so this is the working state of the pop...metion speific index ....it will remove it taht specific value...."
   ]
  },
  {
   "cell_type": "markdown",
   "id": "4d4e98f7",
   "metadata": {},
   "source": [
    "# count(): calculate total occurance of given element in the list...."
   ]
  },
  {
   "cell_type": "code",
   "execution_count": 12,
   "id": "475d8321",
   "metadata": {},
   "outputs": [
    {
     "data": {
      "text/plain": [
       "2"
      ]
     },
     "execution_count": 12,
     "metadata": {},
     "output_type": "execute_result"
    }
   ],
   "source": [
    "lst=[1,1,2,3,4,5,6]\n",
    "lst.count(1)"
   ]
  },
  {
   "cell_type": "code",
   "execution_count": 13,
   "id": "f2fb0196",
   "metadata": {},
   "outputs": [
    {
     "data": {
      "text/plain": [
       "7"
      ]
     },
     "execution_count": 13,
     "metadata": {},
     "output_type": "execute_result"
    }
   ],
   "source": [
    "len(lst)"
   ]
  },
  {
   "cell_type": "markdown",
   "id": "e498283d",
   "metadata": {},
   "source": [
    "# Index inbuilt function"
   ]
  },
  {
   "cell_type": "markdown",
   "id": "60fd5af1",
   "metadata": {},
   "source": [
    "index(): return the index of the first occurance .....start and end index not necessary parameters....."
   ]
  },
  {
   "cell_type": "code",
   "execution_count": 14,
   "id": "fb256748",
   "metadata": {},
   "outputs": [
    {
     "data": {
      "text/plain": [
       "0"
      ]
     },
     "execution_count": 14,
     "metadata": {},
     "output_type": "execute_result"
    }
   ],
   "source": [
    "lst.index(1)"
   ]
  },
  {
   "cell_type": "code",
   "execution_count": 15,
   "id": "fd2a5c57",
   "metadata": {},
   "outputs": [
    {
     "data": {
      "text/plain": [
       "1"
      ]
     },
     "execution_count": 15,
     "metadata": {},
     "output_type": "execute_result"
    }
   ],
   "source": [
    "##there is also something more important such that check its functionality....\n",
    "lst.index(1,1,4)"
   ]
  },
  {
   "cell_type": "code",
   "execution_count": 16,
   "id": "1de21e36",
   "metadata": {},
   "outputs": [
    {
     "data": {
      "text/plain": [
       "1"
      ]
     },
     "execution_count": 16,
     "metadata": {},
     "output_type": "execute_result"
    }
   ],
   "source": [
    "###to find the mninmum and maximum element in the list ......\n",
    "min(lst)"
   ]
  },
  {
   "cell_type": "code",
   "execution_count": 17,
   "id": "3890c58d",
   "metadata": {},
   "outputs": [
    {
     "data": {
      "text/plain": [
       "6"
      ]
     },
     "execution_count": 17,
     "metadata": {},
     "output_type": "execute_result"
    }
   ],
   "source": [
    "max(lst)"
   ]
  },
  {
   "cell_type": "markdown",
   "id": "e8c9ac9e",
   "metadata": {},
   "source": [
    "# sets....."
   ]
  },
  {
   "cell_type": "markdown",
   "id": "7c35eb6b",
   "metadata": {},
   "source": [
    "A set is unordered collection data type that is iterable , mutable ,and as no duplicate element . Python set class \n",
    "repesent the mathematical notion of set .This is based on a data structure known as hash table...."
   ]
  },
  {
   "cell_type": "code",
   "execution_count": 21,
   "id": "6c1a3d4f",
   "metadata": {},
   "outputs": [
    {
     "name": "stdout",
     "output_type": "stream",
     "text": [
      "set()\n",
      "<class 'set'>\n"
     ]
    }
   ],
   "source": [
    "##Defining an empty set .......\n",
    "\n",
    "var=set()\n",
    "print(var)\n",
    "print(type(var))"
   ]
  },
  {
   "cell_type": "code",
   "execution_count": 26,
   "id": "561d6f89",
   "metadata": {},
   "outputs": [
    {
     "data": {
      "text/plain": [
       "{1, 2, 3, 4}"
      ]
     },
     "execution_count": 26,
     "metadata": {},
     "output_type": "execute_result"
    }
   ],
   "source": [
    "## this set will not give us duplicate elements..\n",
    "var={1,2,3,4,4}\n",
    "var"
   ]
  },
  {
   "cell_type": "code",
   "execution_count": 27,
   "id": "ee4c6da3",
   "metadata": {},
   "outputs": [
    {
     "name": "stdout",
     "output_type": "stream",
     "text": [
      "{'ironman', 'Avengers', 'Hitan'}\n",
      "<class 'set'>\n"
     ]
    }
   ],
   "source": [
    "## Creating a set.....\n",
    "var={\"Avengers\",\"ironman\",\"Hitan\"}\n",
    "print(var)\n",
    "print(type(var))"
   ]
  },
  {
   "cell_type": "code",
   "execution_count": 28,
   "id": "af85f072",
   "metadata": {},
   "outputs": [
    {
     "data": {
      "text/plain": [
       "{'Avengers', 'Hitan', 'ironman'}"
      ]
     },
     "execution_count": 28,
     "metadata": {},
     "output_type": "execute_result"
    }
   ],
   "source": [
    "var"
   ]
  },
  {
   "cell_type": "code",
   "execution_count": 30,
   "id": "ebe44d43",
   "metadata": {},
   "outputs": [
    {
     "data": {
      "text/plain": [
       "set"
      ]
     },
     "execution_count": 30,
     "metadata": {},
     "output_type": "execute_result"
    }
   ],
   "source": [
    "type(var)"
   ]
  },
  {
   "cell_type": "code",
   "execution_count": null,
   "id": "186683e3",
   "metadata": {},
   "outputs": [],
   "source": [
    "##you cannot findidng indexing in the set ...this is most important thing to note it....."
   ]
  },
  {
   "cell_type": "code",
   "execution_count": 33,
   "id": "73a3adcd",
   "metadata": {},
   "outputs": [],
   "source": [
    "##There is some function which is used in a set to add it elements.....\n",
    "##var.add(\"kamran\")"
   ]
  },
  {
   "cell_type": "code",
   "execution_count": 34,
   "id": "0e35228e",
   "metadata": {},
   "outputs": [],
   "source": [
    "var.add(\"kamran\")"
   ]
  },
  {
   "cell_type": "code",
   "execution_count": 35,
   "id": "dc05e043",
   "metadata": {},
   "outputs": [
    {
     "name": "stdout",
     "output_type": "stream",
     "text": [
      "{'ironman', 'kamran', 'Avengers', 'Hitan'}\n"
     ]
    }
   ],
   "source": [
    "print(var)"
   ]
  },
  {
   "cell_type": "code",
   "execution_count": null,
   "id": "becca480",
   "metadata": {},
   "outputs": [],
   "source": [
    "##there are many inbuilt functions in this set ..just click on the tab ...when you write the name of variable and dot \n",
    "##then just press tab...this will show you some inbuilt functions....."
   ]
  },
  {
   "cell_type": "code",
   "execution_count": null,
   "id": "36592b5b",
   "metadata": {},
   "outputs": [],
   "source": [
    "var1={\"Avengeres\",\"ironman\",\"spider\"}\n",
    "var2={\"Avengeres\",\"ironman\",\"spider\",\"ant\"}"
   ]
  },
  {
   "cell_type": "code",
   "execution_count": 39,
   "id": "fbb7ec48",
   "metadata": {},
   "outputs": [
    {
     "data": {
      "text/plain": [
       "{'ant'}"
      ]
     },
     "execution_count": 39,
     "metadata": {},
     "output_type": "execute_result"
    }
   ],
   "source": [
    "##this wll give us the difference in the sets ....\n",
    "var2.difference(var1)"
   ]
  },
  {
   "cell_type": "code",
   "execution_count": 40,
   "id": "df0818c2",
   "metadata": {},
   "outputs": [
    {
     "data": {
      "text/plain": [
       "{'Avengeres', 'ant', 'ironman', 'spider'}"
      ]
     },
     "execution_count": 40,
     "metadata": {},
     "output_type": "execute_result"
    }
   ],
   "source": [
    "var2"
   ]
  },
  {
   "cell_type": "code",
   "execution_count": 41,
   "id": "498f8d60",
   "metadata": {},
   "outputs": [
    {
     "data": {
      "text/plain": [
       "{'Avengeres', 'ant', 'ironman', 'spider'}"
      ]
     },
     "execution_count": 41,
     "metadata": {},
     "output_type": "execute_result"
    }
   ],
   "source": [
    "var2"
   ]
  },
  {
   "cell_type": "code",
   "execution_count": null,
   "id": "44807248",
   "metadata": {},
   "outputs": [],
   "source": [
    "var2.difference_update(var1)"
   ]
  },
  {
   "cell_type": "code",
   "execution_count": 42,
   "id": "71e83d44",
   "metadata": {},
   "outputs": [
    {
     "name": "stdout",
     "output_type": "stream",
     "text": [
      "{'ironman', 'ant', 'Avengeres', 'spider'}\n"
     ]
    }
   ],
   "source": [
    "print(var2)"
   ]
  },
  {
   "cell_type": "code",
   "execution_count": null,
   "id": "e80cf006",
   "metadata": {},
   "outputs": [],
   "source": [
    "var2.intersection_update(var1)"
   ]
  },
  {
   "cell_type": "code",
   "execution_count": 43,
   "id": "21d7dc26",
   "metadata": {},
   "outputs": [
    {
     "data": {
      "text/plain": [
       "{'Avengeres', 'ant', 'ironman', 'spider'}"
      ]
     },
     "execution_count": 43,
     "metadata": {},
     "output_type": "execute_result"
    }
   ],
   "source": [
    "var2"
   ]
  },
  {
   "cell_type": "markdown",
   "id": "aa608593",
   "metadata": {},
   "source": [
    "# Dictionaries"
   ]
  },
  {
   "cell_type": "markdown",
   "id": "910bdcb5",
   "metadata": {},
   "source": [
    "A dictionary is  a collection which is unordered changeale and indexed  .In python dictionaries are written with curl braces \n",
    "and they have a key and values"
   ]
  },
  {
   "cell_type": "code",
   "execution_count": null,
   "id": "0f29034a",
   "metadata": {},
   "outputs": [],
   "source": []
  },
  {
   "cell_type": "code",
   "execution_count": null,
   "id": "705530cb",
   "metadata": {},
   "outputs": [],
   "source": []
  },
  {
   "cell_type": "code",
   "execution_count": null,
   "id": "5a99ef06",
   "metadata": {},
   "outputs": [],
   "source": []
  },
  {
   "cell_type": "code",
   "execution_count": null,
   "id": "b78414f0",
   "metadata": {},
   "outputs": [],
   "source": []
  },
  {
   "cell_type": "code",
   "execution_count": null,
   "id": "94d5b9af",
   "metadata": {},
   "outputs": [],
   "source": []
  },
  {
   "cell_type": "code",
   "execution_count": null,
   "id": "cc9b7b32",
   "metadata": {},
   "outputs": [],
   "source": []
  },
  {
   "cell_type": "code",
   "execution_count": null,
   "id": "bb3e2fdc",
   "metadata": {},
   "outputs": [],
   "source": []
  },
  {
   "cell_type": "code",
   "execution_count": null,
   "id": "38148643",
   "metadata": {},
   "outputs": [],
   "source": []
  },
  {
   "cell_type": "code",
   "execution_count": null,
   "id": "916e487f",
   "metadata": {},
   "outputs": [],
   "source": []
  },
  {
   "cell_type": "code",
   "execution_count": null,
   "id": "8912e730",
   "metadata": {},
   "outputs": [],
   "source": []
  },
  {
   "cell_type": "code",
   "execution_count": null,
   "id": "2d2f3b23",
   "metadata": {},
   "outputs": [],
   "source": []
  },
  {
   "cell_type": "code",
   "execution_count": null,
   "id": "b3014309",
   "metadata": {},
   "outputs": [],
   "source": []
  },
  {
   "cell_type": "code",
   "execution_count": null,
   "id": "d7853e6b",
   "metadata": {},
   "outputs": [],
   "source": []
  },
  {
   "cell_type": "code",
   "execution_count": null,
   "id": "a05bf196",
   "metadata": {},
   "outputs": [],
   "source": []
  },
  {
   "cell_type": "code",
   "execution_count": null,
   "id": "23c3946b",
   "metadata": {},
   "outputs": [],
   "source": []
  }
 ],
 "metadata": {
  "kernelspec": {
   "display_name": "Python 3 (ipykernel)",
   "language": "python",
   "name": "python3"
  },
  "language_info": {
   "codemirror_mode": {
    "name": "ipython",
    "version": 3
   },
   "file_extension": ".py",
   "mimetype": "text/x-python",
   "name": "python",
   "nbconvert_exporter": "python",
   "pygments_lexer": "ipython3",
   "version": "3.11.4"
  }
 },
 "nbformat": 4,
 "nbformat_minor": 5
}
